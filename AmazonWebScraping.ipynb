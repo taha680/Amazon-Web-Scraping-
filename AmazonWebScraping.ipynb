{
 "cells": [
  {
   "cell_type": "markdown",
   "id": "75c68c8b-b7e4-4b9e-a293-4c30d117c3e7",
   "metadata": {},
   "source": [
    "# Amazon Web Scraping"
   ]
  },
  {
   "cell_type": "code",
   "execution_count": 1,
   "id": "fff52c71-2fb2-4de7-be8e-15a007e3847a",
   "metadata": {},
   "outputs": [],
   "source": [
    "from bs4 import BeautifulSoup\n",
    "import pandas as pd\n",
    "import requests\n",
    "import time\n",
    "import datetime\n",
    "import smtplib\n",
    "import csv"
   ]
  },
  {
   "cell_type": "code",
   "execution_count": 3,
   "id": "6c83c9b0-6edc-4b8c-a332-7082e4eebe38",
   "metadata": {},
   "outputs": [],
   "source": [
    "URL = 'https://www.amazon.com/COOFANDY-Summer-Cotton-Sleeve-Business/dp/B0BV257YG8/ref=sr_1_1?crid=122REJB5PJ3Y&dib=eyJ2IjoiMSJ9.BFSRBBBxdx9JQXtRBli9mtjrVP9mbEIXlCMhaDqgVcFu3-Z4cDDGv1R_LQ71hByvwrtAAjS912eEubJA8INHR1F1OoIj-b8Lqfu-MLHbKaPITpcqdoymh2aqjFLlCjV3isEXqqvaiutoyLBBMUNOCApkxrNoZpHuqCjp_5LHRiyp2jU7ThI2KY4vsfSe_HaMdE4vJP1sxqGZGwg-9RTnERZxOcXAXyfl_lnDBQc08lKYlTizpccnSmwzmRh6-u0vI6T65Lomnb_nNE8V9N4bLCR5m4QYut8cgojOM0105aU.ozbFfzC2Gv-38xy_sp5LlIeb1h1dAG8rONYvGUMc6K8&dib_tag=se&keywords=shirt&qid=1719581279&sprefix=shir%2Caps%2C365&sr=8-1&th=1'\n",
    "\n",
    "headers = {\"User-Agent\": \"Mozilla/5.0 (Windows NT 10.0; Win64; x64) AppleWebKit/537.36 (KHTML, like Gecko) Chrome/126.0.0.0 Safari/537.36\", \"Accept-Encoding\":\"gzip, deflate\", \"Accept\":\"text/html,application/xhtml+xml,application/xml;q=0.9,*/*;q=0.8\", \"DNT\":\"1\",\"Connection\":\"close\", \"Upgrade-Insecure-Requests\":\"1\"}\n",
    "\n",
    "page = requests.get(URL, headers=headers)\n",
    "\n",
    "soup1 = BeautifulSoup(page.content, 'html.parser')\n",
    "\n",
    "soup2 = BeautifulSoup(soup1.prettify(), 'html.parser')\n",
    "\n",
    "#print(soup2)\n",
    "\n"
   ]
  },
  {
   "cell_type": "code",
   "execution_count": 4,
   "id": "c9c8afd8-cd8b-41f8-820e-dde50545fff9",
   "metadata": {},
   "outputs": [],
   "source": [
    "title = soup2.find(id='productTitle').get_text().strip()\n",
    "ratings = soup2.find(id='acrCustomerReviewText').get_text().strip()"
   ]
  },
  {
   "cell_type": "code",
   "execution_count": 7,
   "id": "d88f1d42-5286-46d6-a1ae-5dde2a7866e9",
   "metadata": {},
   "outputs": [
    {
     "name": "stdout",
     "output_type": "stream",
     "text": [
      "COOFANDY Men's Linen Shirts Short Sleeve Casual Shirts Button Down Shirt for Men Beach Summer Wedding Shirt\n",
      "2,394 ratings\n"
     ]
    }
   ],
   "source": [
    "print(title)\n",
    "print(ratings)"
   ]
  },
  {
   "cell_type": "code",
   "execution_count": 9,
   "id": "646240ec-7523-4139-a2a6-15abfbbe7079",
   "metadata": {},
   "outputs": [
    {
     "name": "stdout",
     "output_type": "stream",
     "text": [
      "2024-06-28\n"
     ]
    }
   ],
   "source": [
    "today = datetime.date.today()\n",
    "\n",
    "print(today)"
   ]
  },
  {
   "cell_type": "code",
   "execution_count": 68,
   "id": "3db28387-71c6-4955-9c45-9feb601dd15a",
   "metadata": {},
   "outputs": [],
   "source": [
    "header = ['Title', 'Ratings', 'Date']\n",
    "data = [title, ratings, today]\n",
    "\n",
    "with open('AmazonWebScrapingDataset1.csv', 'w', newline='', encoding='UTF8') as f:\n",
    "    writer = csv.writer(f)\n",
    "    writer.writerow(header)\n",
    "    writer.writerow(data)\n"
   ]
  },
  {
   "cell_type": "code",
   "execution_count": 11,
   "id": "60d8302c-d41a-4af4-928e-dd1ccc897389",
   "metadata": {},
   "outputs": [
    {
     "name": "stdout",
     "output_type": "stream",
     "text": [
      "                                               Title        Ratings  \\\n",
      "0  COOFANDY Men's Linen Shirts Short Sleeve Casua...  2,394 ratings   \n",
      "1  COOFANDY Men's Linen Shirts Short Sleeve Casua...  2,394 ratings   \n",
      "2  COOFANDY Men's Linen Shirts Short Sleeve Casua...  2,394 ratings   \n",
      "3  COOFANDY Men's Linen Shirts Short Sleeve Casua...  2,394 ratings   \n",
      "4  COOFANDY Men's Linen Shirts Short Sleeve Casua...  2,394 ratings   \n",
      "5  COOFANDY Men's Linen Shirts Short Sleeve Casua...  2,394 ratings   \n",
      "6  COOFANDY Men's Linen Shirts Short Sleeve Casua...  2,394 ratings   \n",
      "7  COOFANDY Men's Linen Shirts Short Sleeve Casua...  2,394 ratings   \n",
      "\n",
      "         Date  \n",
      "0  2024-06-28  \n",
      "1  2024-06-28  \n",
      "2  2024-06-28  \n",
      "3  2024-06-28  \n",
      "4  2024-06-28  \n",
      "5  2024-06-28  \n",
      "6  2024-06-28  \n",
      "7  2024-06-28  \n"
     ]
    }
   ],
   "source": [
    "df = pd.read_csv(r'C:\\Users\\HP\\AmazonWebScrapingDataset1.csv')\n",
    "\n",
    "print(df)"
   ]
  },
  {
   "cell_type": "code",
   "execution_count": 107,
   "id": "325dee23-4b13-4e41-a0ba-ecec01ba0946",
   "metadata": {},
   "outputs": [],
   "source": [
    "#appending data\n",
    "\n",
    "header = ['Title', 'Ratings', 'Date']\n",
    "data = [title, ratings, today]\n",
    "\n",
    "with open('AmazonWebScrapingDataset1.csv', 'a+', newline='', encoding='UTF8') as f:\n",
    "    writer = csv.writer(f)\n",
    "    writer.writerow(data)\n",
    "    "
   ]
  },
  {
   "cell_type": "code",
   "execution_count": 13,
   "id": "2f7b2106-b14a-4cfd-b14a-f55e3ad75954",
   "metadata": {},
   "outputs": [],
   "source": [
    "def check_ratings():\n",
    "    URL = 'https://www.amazon.com/COOFANDY-Summer-Cotton-Sleeve-Business/dp/B0BV257YG8/ref=sr_1_1?crid=122REJB5PJ3Y&dib=eyJ2IjoiMSJ9.BFSRBBBxdx9JQXtRBli9mtjrVP9mbEIXlCMhaDqgVcFu3-Z4cDDGv1R_LQ71hByvwrtAAjS912eEubJA8INHR1F1OoIj-b8Lqfu-MLHbKaPITpcqdoymh2aqjFLlCjV3isEXqqvaiutoyLBBMUNOCApkxrNoZpHuqCjp_5LHRiyp2jU7ThI2KY4vsfSe_HaMdE4vJP1sxqGZGwg-9RTnERZxOcXAXyfl_lnDBQc08lKYlTizpccnSmwzmRh6-u0vI6T65Lomnb_nNE8V9N4bLCR5m4QYut8cgojOM0105aU.ozbFfzC2Gv-38xy_sp5LlIeb1h1dAG8rONYvGUMc6K8&dib_tag=se&keywords=shirt&qid=1719581279&sprefix=shir%2Caps%2C365&sr=8-1&th=1'\n",
    "\n",
    "    headers = {\"User-Agent\": \"Mozilla/5.0 (Windows NT 10.0; Win64; x64) AppleWebKit/537.36 (KHTML, like Gecko) Chrome/126.0.0.0 Safari/537.36\", \"Accept-Encoding\":\"gzip, deflate\", \"Accept\":\"text/html,application/xhtml+xml,application/xml;q=0.9,*/*;q=0.8\", \"DNT\":\"1\",\"Connection\":\"close\", \"Upgrade-Insecure-Requests\":\"1\"}\n",
    "\n",
    "    page = requests.get(URL, headers=headers)\n",
    "\n",
    "    soup1 = BeautifulSoup(page.content, 'html.parser')\n",
    "\n",
    "    soup2 = BeautifulSoup(soup1.prettify(), 'html.parser')\n",
    "\n",
    "    title = soup2.find(id='productTitle').get_text().strip()\n",
    "\n",
    "    ratings = soup2.find(id='acrCustomerReviewText').get_text().strip()\n",
    "\n",
    "    today = datetime.date.today()\n",
    "\n",
    "    header = ['Title', 'Ratings', 'Date']\n",
    "\n",
    "    data = [title, ratings, today]\n",
    "\n",
    "    with open('AmazonWebScrapingDataset1.csv', 'a+', newline='', encoding='UTF8') as f:\n",
    "       writer = csv.writer(f)\n",
    "       writer.writerow(data)   "
   ]
  },
  {
   "cell_type": "code",
   "execution_count": null,
   "id": "eddfa698-10f9-4298-baef-aeefe52b9050",
   "metadata": {},
   "outputs": [],
   "source": [
    "while(True):\n",
    "    check_ratings()\n",
    "    time.sleep(86400)"
   ]
  },
  {
   "cell_type": "code",
   "execution_count": null,
   "id": "40ed1368-d957-43cd-bd26-1d08b876f959",
   "metadata": {},
   "outputs": [],
   "source": [
    "df = pd.read_csv(r'C:\\Users\\HP\\AmazonWebScrapingDataset1.csv')\n",
    "print(df)"
   ]
  },
  {
   "cell_type": "code",
   "execution_count": null,
   "id": "7d440894-293a-4e34-a396-d17340dd150f",
   "metadata": {},
   "outputs": [],
   "source": []
  },
  {
   "cell_type": "code",
   "execution_count": null,
   "id": "755a354a-f3fe-46b7-9f1f-9519ca124846",
   "metadata": {},
   "outputs": [],
   "source": []
  },
  {
   "cell_type": "code",
   "execution_count": null,
   "id": "fc38bb54-4467-4e37-89aa-9cc45bce3183",
   "metadata": {},
   "outputs": [],
   "source": []
  },
  {
   "cell_type": "code",
   "execution_count": null,
   "id": "26954a12-2380-4e97-addb-3f99be8a58ac",
   "metadata": {},
   "outputs": [],
   "source": []
  },
  {
   "cell_type": "code",
   "execution_count": null,
   "id": "20a29e24-613b-47b2-bb38-4684b6e97a68",
   "metadata": {},
   "outputs": [],
   "source": []
  },
  {
   "cell_type": "code",
   "execution_count": null,
   "id": "a2302fb4-af1c-40da-9285-0353783012e1",
   "metadata": {},
   "outputs": [],
   "source": []
  },
  {
   "cell_type": "code",
   "execution_count": null,
   "id": "7d095efd-162d-4a4e-99bc-70eb720737b9",
   "metadata": {},
   "outputs": [],
   "source": []
  },
  {
   "cell_type": "code",
   "execution_count": null,
   "id": "ab301939-5342-4449-a7da-58016ee767a3",
   "metadata": {},
   "outputs": [],
   "source": []
  },
  {
   "cell_type": "code",
   "execution_count": null,
   "id": "4f3bc5ba-a00e-42bd-b82f-43b4625db25a",
   "metadata": {},
   "outputs": [],
   "source": []
  },
  {
   "cell_type": "code",
   "execution_count": null,
   "id": "97d4556b-c189-4d15-b823-a4ce17325207",
   "metadata": {},
   "outputs": [],
   "source": []
  },
  {
   "cell_type": "code",
   "execution_count": null,
   "id": "b0560b4d-6def-41d1-92cf-eb4f1f682622",
   "metadata": {},
   "outputs": [],
   "source": []
  },
  {
   "cell_type": "code",
   "execution_count": null,
   "id": "0b508df5-ec05-4f26-b71b-894aa5bf8cc5",
   "metadata": {},
   "outputs": [],
   "source": []
  },
  {
   "cell_type": "code",
   "execution_count": null,
   "id": "3d1b5d97-0977-4734-bfd4-e786ec2c527f",
   "metadata": {},
   "outputs": [],
   "source": []
  }
 ],
 "metadata": {
  "kernelspec": {
   "display_name": "Python 3 (ipykernel)",
   "language": "python",
   "name": "python3"
  },
  "language_info": {
   "codemirror_mode": {
    "name": "ipython",
    "version": 3
   },
   "file_extension": ".py",
   "mimetype": "text/x-python",
   "name": "python",
   "nbconvert_exporter": "python",
   "pygments_lexer": "ipython3",
   "version": "3.11.7"
  }
 },
 "nbformat": 4,
 "nbformat_minor": 5
}
